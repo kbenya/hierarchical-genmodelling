{
 "cells": [
  {
   "cell_type": "code",
   "execution_count": 1,
   "metadata": {},
   "outputs": [],
   "source": [
    "#coding: utf-8\n",
    "import requests\n",
    "from bs4 import BeautifulSoup\n",
    "import pandas as pd\n",
    "import numpy as np\n",
    "import re\n",
    "import datetime\n",
    "from tqdm import tqdm#_notebook as tqdm\n",
    "import multiprocessing\n",
    "import gzip"
   ]
  },
  {
   "cell_type": "code",
   "execution_count": 2,
   "metadata": {},
   "outputs": [],
   "source": [
    "def getterm(term):\n",
    "    r = requests.get('https://www.hotels.com/siteindex_www_hotels_com.xml')\n",
    "    todf = []\n",
    "    citylinks = [x.text for x in BeautifulSoup(r.content,'lxml').find_all('loc') if '/%s_www' % term in x.text]\n",
    "    for city in tqdm(citylinks):\n",
    "        r2 = requests.get(city)\n",
    "        soup = BeautifulSoup(gzip.decompress(r2.content),'lxml')\n",
    "        todf.append(pd.DataFrame([{'name':x.find('loc').text.split('/')[-2],\n",
    "                                   'id':x.find('loc').text.split('/')[-3][2:],\n",
    "                                   'url':x.find('loc').text\n",
    "                                  } for x in soup.find_all('url')])\n",
    "        )\n",
    "    return pd.concat(todf)"
   ]
  },
  {
   "cell_type": "code",
   "execution_count": 3,
   "metadata": {},
   "outputs": [],
   "source": [
    "def recmerge(df1,df2,collist,targetcol):\n",
    "    out = []\n",
    "    for col in collist:\n",
    "        if len(out) < 1:\n",
    "            out.append(df1.merge(df2[[col,targetcol]],on=col,how='left'))\n",
    "        else:\n",
    "            out.append(out[-1][out[-1][targetcol].isnull()].drop(targetcol,axis=1\n",
    "                       ).merge(df2[[col,targetcol]],on=col,how='left'))\n",
    "    return pd.concat([x[~x['id'].isnull()] for x in out])"
   ]
  },
  {
   "cell_type": "code",
   "execution_count": 4,
   "metadata": {},
   "outputs": [
    {
     "name": "stderr",
     "output_type": "stream",
     "text": [
      "100%|██████████| 21/21 [01:56<00:00,  4.93s/it]\n"
     ]
    }
   ],
   "source": [
    "fullhotel = getterm('HOTEL')"
   ]
  },
  {
   "cell_type": "code",
   "execution_count": 12,
   "metadata": {},
   "outputs": [],
   "source": [
    "def process_hotel(hotelid):\n",
    "    hotelid = str(hotelid)\n",
    "    result = {'hotelid':hotelid}\n",
    "    soup = BeautifulSoup(requests.get('https://www.hotels.com/ho' + hotelid,\n",
    "                                     params={'locale':'en_IE'}).content,'html5lib')\n",
    "    for vcard in soup.find_all('div',{'class':'property-description'}):\n",
    "        for fun, name in [[lambda x: x.find('h1').text,'name'],\n",
    "                         [lambda x: x.find('span',{'class':'hotel-coordinates'}\n",
    "                                          ).find_all('meta')[0]['content'],'lat'],\n",
    "                         [lambda x: x.find('span',{'class':'hotel-coordinates'}\n",
    "                                          ).find_all('meta')[1]['content'],'lon'],\n",
    "                         [lambda x: x.find('span',{'class','star-rating-text'}).text,'star'],\n",
    "                         [lambda x: x.find('span',{'class','street-address'}).text,'street'],\n",
    "                         [lambda x: x.find('span',{'class','locality'}).text,'locality'],\n",
    "                         [lambda x: x.find('span',{'class','region'}).text,'region'],\n",
    "                         [lambda x: x.find('span',{'class','postal-addr'}).text,'addr'],\n",
    "                         [lambda x: x.find('span',{'class','postal-code'}).text,'zip'],\n",
    "                         [lambda x: x.find('span',{'class','country-name'}).text,'country'],\n",
    "                         [lambda x: x.find('div',{'class','tagline'}).text,'tagline']]:\n",
    "            try:\n",
    "                result[name] = fun(vcard)\n",
    "            except:\n",
    "                #print('FUCKED ----------- %s --- %s' % (name,hotelid))\n",
    "                pass\n",
    "    try:\n",
    "        result['dest-id'] = soup.find('span',{'class':'back-link'}).find('a')['href'].split(\n",
    "            'destination-id=')[-1].split('&')[-1]\n",
    "    except:\n",
    "        #print('FUCKED ----------- %s --- %s' % ('dest-id',hotelid))\n",
    "        pass\n",
    "    for findict,name in [[{'data-overview-section-type':\"HOTEL_FEATURE\"},'base'],\n",
    "                        [{'data-overview-section-type':\"FAMILY_FRIENDLY_SECTION\"},'family'],\n",
    "                        [{'class':'key-facts-container'},'key'],\n",
    "                        [{'class':'travelling-container'},'travel'],\n",
    "                        [{'class':'transport-container'},'transport'],\n",
    "                        [{'class':'badges-and-services-container'},'badges']]:\n",
    "        baselist = soup.find('div',findict)\n",
    "        try:\n",
    "            lis = baselist.find_all('li')\n",
    "        except:\n",
    "            #print('FUCKED ----------- %s --- %s' % (name,hotelid))\n",
    "            lis = []\n",
    "            result[name + '_missing'] = 1\n",
    "        for li in lis:\n",
    "            num_found = False\n",
    "            for reg,num_name in [['This hotel has (\\d+)','rooms'],\n",
    "                        ['This hotel is arranged over (\\d+)','floors'],\n",
    "                        ['(\\d+) restaurants','restaurants'],\n",
    "                        ['(\\d+) outdoor pools','outdoor pools'],\n",
    "                        ['(\\d+) spa tubs','spa tubs'],\n",
    "                        ['(\\d+) bars/lounges','bars/lounges'],\n",
    "                        ['(\\d+) poolside bars','poolside bars'],\n",
    "                        ['(\\d+) poolside bars','poolside bars'],\n",
    "                        ['(\\d) smoke-free guestrooms','smoke-free guestrooms'],\n",
    "                        ['(\\d) guestrooms','guestrooms'],\n",
    "                        ['(\\d) apartments','apartments'],\n",
    "                        ['(\\d) smoke-free apartments','smoke-free apartments'],\n",
    "                        ['(\\d) inch flat-screen TV','inch flat-screen TV'],\n",
    "                        ['(\\d) inch LCD TV','inch LCD TV'],\n",
    "                        ['(\\d) inch TV','inch TV'],\n",
    "                        ['(\\d) Smart TV','Smart TV'],\n",
    "                        ['(\\d) LED TV','LED TV'],\n",
    "                        ['(\\d) inch plasma TV','inch plasma TV'],\n",
    "                        ['(\\d) villas','villas'],\n",
    "                        ['(\\d) smoke-free accommodations','smoke-free accommodations']]:\n",
    "                ref = re.findall(reg,li.text)\n",
    "                if len(ref) > 0:\n",
    "                    result[num_name] = ref[0]\n",
    "                    num_found = True\n",
    "            if num_found:\n",
    "                continue\n",
    "            if name == 'key':\n",
    "                if 'Check-in time' in li.text:\n",
    "                    result['Check-in time'] = li.text.split('time ')[-1]\n",
    "                    continue\n",
    "                if 'Check-out time' in li.text:\n",
    "                    result['Check-out time'] = li.text.split('time ')[-1]\n",
    "                    continue\n",
    "            result[name + '_' + li.text] = 1\n",
    "\n",
    "\n",
    "    for findict,name in [[{'class':'fact-sheets in-the-property-module'},'inhotel'],\n",
    "                         [{'class':'fact-sheets in-the-room-module'},'inroom']]:    \n",
    "        inhotel = soup.find('div',findict)\n",
    "        try:\n",
    "            lis = inhotel.find_all('div',{'class':'fact-sheet-table-row'})\n",
    "        except:\n",
    "            #print('FUCKED ----------- %s --- %s' % (name,hotelid))\n",
    "            result[name + '_missing'] = 1\n",
    "            lis = []\n",
    "        for li in lis:\n",
    "            head = li.find('div',{'class':'fact-sheet-table-header'})\n",
    "            try:\n",
    "                head = head.text\n",
    "                cells = li.find_all('li')\n",
    "            except:\n",
    "                #print('FUCKED ----------- %s --- %s' % (name,hotelid))\n",
    "                cells = []\n",
    "            for item in cells:\n",
    "                result[name + '_' + head + '_' + item.text] = 1\n",
    "    return result\n",
    "\n",
    "#@ray.remote\n",
    "#def ray_hotel_list(hlist):\n",
    "#    return pd.DataFrame([process_hotel(h) for h in hlist])\n",
    "\n",
    "def mp_hotel_list(hlist):\n",
    "    return pd.DataFrame([process_hotel(h) for h in tqdm(hlist)])"
   ]
  },
  {
   "cell_type": "code",
   "execution_count": 14,
   "metadata": {},
   "outputs": [
    {
     "name": "stderr",
     "output_type": "stream",
     "text": [
      "100%|██████████| 62/62 [01:20<00:00,  1.07s/it]\n",
      "100%|██████████| 62/62 [01:21<00:00,  1.23s/it]\n",
      "100%|██████████| 63/63 [01:21<00:00,  1.19s/it]\n",
      "100%|██████████| 62/62 [01:21<00:00,  1.21s/it]\n",
      "100%|██████████| 62/62 [01:23<00:00,  1.21s/it]\n",
      "100%|██████████| 62/62 [01:23<00:00,  1.16s/it]\n",
      "100%|██████████| 63/63 [01:23<00:00,  1.11s/it]\n",
      "100%|██████████| 62/62 [01:23<00:00,  1.20s/it]\n",
      "100%|██████████| 63/63 [01:24<00:00,  1.00s/it]\n",
      "100%|██████████| 63/63 [01:24<00:00,  1.09it/s]\n",
      "100%|██████████| 63/63 [01:25<00:00,  1.01it/s]\n",
      " 92%|█████████▏| 57/62 [01:25<00:04,  1.02it/s]\n",
      "100%|██████████| 63/63 [01:25<00:00,  1.01s/it]\n",
      "100%|██████████| 62/62 [01:27<00:00,  1.05s/it]\n",
      "100%|██████████| 63/63 [01:28<00:00,  1.05it/s]\n",
      "100%|██████████| 62/62 [01:30<00:00,  1.03it/s]\n",
      "/home/borza/Dropbox/Papers_write/ma_thesis/hierarchical-genmodel/pyenv/lib/python3.6/site-packages/ipykernel_launcher.py:10: FutureWarning: Sorting because non-concatenation axis is not aligned. A future version\n",
      "of pandas will change to not sort by default.\n",
      "\n",
      "To accept the future behavior, pass 'sort=False'.\n",
      "\n",
      "To retain the current behavior and silence the warning, pass 'sort=True'.\n",
      "\n",
      "  # Remove the CWD from sys.path while we load stuff.\n"
     ]
    }
   ],
   "source": [
    "splitnum = multiprocessing.cpu_count() * 4\n",
    "#hotel_atts = pd.concat(ray.get([ray_hotel_list.remote(hlist) for\n",
    "#                        hlist in np.array_split(\n",
    "#                        fullhotel['id'].sample(100).values,splitnum)])).set_index('hotelid')\n",
    "\n",
    "pool = multiprocessing.Pool(splitnum)\n",
    "\n",
    "hotel_atts = pd.concat(pool.map(mp_hotel_list,[hlist for\n",
    "                        hlist in np.array_split(\n",
    "                        fullhotel['id'].sample(1000).values,splitnum)])).set_index('hotelid')"
   ]
  },
  {
   "cell_type": "code",
   "execution_count": 20,
   "metadata": {},
   "outputs": [],
   "source": [
    "hotel_atts.to_csv('../data/external/hotel-atts.csv',index='hotelid')"
   ]
  },
  {
   "cell_type": "code",
   "execution_count": 17,
   "metadata": {},
   "outputs": [
    {
     "data": {
      "text/plain": [
       "England,                     51\n",
       "FL,                          30\n",
       "CA,                          25\n",
       "Scotland,                    11\n",
       "NSW,                         11\n",
       "QLD,                         11\n",
       "CO,                          10\n",
       "NC,                           8\n",
       "TX,                           8\n",
       "NY,                           8\n",
       "AL,                           8\n",
       "Bali,                         8\n",
       "TN,                           7\n",
       "VIC,                          7\n",
       "OR,                           6\n",
       "MN,                           6\n",
       "SC,                           6\n",
       "Florida,                      6\n",
       "PA,                           6\n",
       "HI,                           5\n",
       "BC,                           5\n",
       "ON,                           5\n",
       "Western Cape,                 5\n",
       "NA,                           5\n",
       "QROO,                         5\n",
       "Shaanxi,                      4\n",
       "Surat Thani,                  4\n",
       "WA,                           4\n",
       "AZ,                           4\n",
       "Zhejiang,                     4\n",
       "                             ..\n",
       "Santorini Island,             1\n",
       "MD,                           1\n",
       "GRO,                          1\n",
       "Västra Götalands Län,         1\n",
       "Rayong,                       1\n",
       "Bari,                         1\n",
       "Shanxi,                       1\n",
       "Valais,                       1\n",
       "Puerto Rico,                  1\n",
       "Christ Church,                1\n",
       "Donegal,                      1\n",
       "Hualien County,               1\n",
       "Armenia,                      1\n",
       "Tangier,                      1\n",
       "Beijing,                      1\n",
       "Finistere,                    1\n",
       "BG,                           1\n",
       "Ariege,                       1\n",
       "Zadar-Northern Dalmatia,      1\n",
       "BW,                           1\n",
       "OH,                           1\n",
       "Zakynthos,                    1\n",
       "NK,                           1\n",
       "Ylläs,                        1\n",
       "beyoglu,                      1\n",
       "RS,                           1\n",
       "RA,                           1\n",
       "Ninh Binh,                    1\n",
       "VD,                           1\n",
       "Fukui,                        1\n",
       "Name: region, Length: 366, dtype: int64"
      ]
     },
     "execution_count": 17,
     "metadata": {},
     "output_type": "execute_result"
    }
   ],
   "source": [
    "hotel_atts['region'].value_counts()"
   ]
  },
  {
   "cell_type": "code",
   "execution_count": 469,
   "metadata": {},
   "outputs": [],
   "source": [
    "testdf2.to_csv('../data/external/hotel-atts.csv')"
   ]
  },
  {
   "cell_type": "code",
   "execution_count": 370,
   "metadata": {},
   "outputs": [],
   "source": [
    "hotelcols = testdf.columns"
   ]
  },
  {
   "cell_type": "code",
   "execution_count": 461,
   "metadata": {},
   "outputs": [
    {
     "data": {
      "text/plain": [
       "0                            base_-smoke-free guestrooms\n",
       "1                                       base_-guestrooms\n",
       "2                                       base_-apartments\n",
       "3                            base_-smoke-free apartments\n",
       "4            inroom_Be entertained_--inch flat-screen TV\n",
       "5      travel_Children (-years old and younger) stay ...\n",
       "6      travel_One child (-years old and younger) stay...\n",
       "7                    inroom_Be entertained_--inch LCD TV\n",
       "8                           key_Minimum check-in age is-\n",
       "9      travel_Children (-years old and younger) not a...\n",
       "10                       inroom_Be entertained_--inch TV\n",
       "11                   inhotel_Food and drink_-restaurants\n",
       "12                 inroom_Be entertained_--inch Smart TV\n",
       "13                   inroom_Be entertained_--inch LED TV\n",
       "14                                     base_-restaurants\n",
       "15                        key_Check-in time starts at-PM\n",
       "16                             key_Check-in time-PM-9 PM\n",
       "17                             key_Check-in time-PM-8 PM\n",
       "18                            key_Check-in time-PM-10 PM\n",
       "19                              key_Check-out time is-PM\n",
       "20                inroom_Be entertained_--inch plasma TV\n",
       "21                                          base_-villas\n",
       "22                             key_Check-in time-PM-7 PM\n",
       "23                            key_Check-in time noon--PM\n",
       "24                              key_Check-out time is-AM\n",
       "25                             key_Check-in time-PM-6 PM\n",
       "26                  inhotel_Food and drink_-bars/lounges\n",
       "27                       base_-smoke-free accommodations\n",
       "28                             key_Check-in time-PM-1 AM\n",
       "29     travel_Up to-children (1 year old and younger)...\n",
       "                             ...                        \n",
       "218          transport_Airport shuttle from-AM to noon *\n",
       "219                     key_Check-in time-:30 PM-6:30 PM\n",
       "220                       key_Check-in time midnight--PM\n",
       "221    transport_Airport shuttle from-:30 AM to 9:30 ...\n",
       "222          transport_Airport shuttle from-AM to 9 PM *\n",
       "223                 key_Monday - Saturday:-AM - 10:30 AM\n",
       "224                            key_Check-in time-AM-4 PM\n",
       "225                        travel_-per room (up to 5 kg)\n",
       "226                 base_-restaurants and 3 bars/lounges\n",
       "227                       travel_-per room (up to 25 lb)\n",
       "228                         key_Check-in time ends at-PM\n",
       "229                    key_Check-in time-:00 PM-08:00 PM\n",
       "230                     key_Saturday - Sunday:-AM - 4 PM\n",
       "231    travel_Up to-children (2 years old and younger...\n",
       "232          inhotel_Working away_--hour business center\n",
       "233                                  key_--hour check-in\n",
       "234                     key_Monday - Saturday:-AM - 2 PM\n",
       "235    travel_Up to-children (8 years old and younger...\n",
       "236                         key_Check-in time-PM-2:30 AM\n",
       "237               key_Check-out time is-:00 AM - 11:00AM\n",
       "238                      key_Monday - Sunday:-PM - 10 PM\n",
       "239                              base_-shared guestrooms\n",
       "240                           base_--hour fitness center\n",
       "241                        key_Check-in time-:30 PM-6 PM\n",
       "242                         key_Check-out time is-:30 PM\n",
       "243                        key_Check-in time-:30 PM-4 PM\n",
       "244                         key_Check-in time-PM-7:30 AM\n",
       "245       transport_Airport drop off (available-hours) *\n",
       "246                       travel_-per room (up to 60 lb)\n",
       "247                       travel_-per room (up to 35 lb)\n",
       "Name: index, Length: 248, dtype: object"
      ]
     },
     "execution_count": 461,
     "metadata": {},
     "output_type": "execute_result"
    }
   ],
   "source": [
    "doubles = pd.Series(hotelcols).apply(lambda x: re.findall('(.*?)\\d+(.*)',x))\n",
    "doubles = doubles[doubles.str.len() > 0]\n",
    "doubles = doubles.apply(lambda x: pd.Series(x[0]).apply(lambda x: x.strip()))#.drop_duplicates()\n",
    "doubles.apply(lambda x: '-'.join(x),axis=1).value_counts().reset_index()"
   ]
  },
  {
   "cell_type": "code",
   "execution_count": 420,
   "metadata": {},
   "outputs": [
    {
     "data": {
      "text/plain": [
       "60    428319\n",
       "Name: hotelid, dtype: object"
      ]
     },
     "execution_count": 420,
     "metadata": {},
     "output_type": "execute_result"
    }
   ],
   "source": [
    "testdf[~testdf['key_Monday - Sunday: 8 AM - 9 PM'].isnull()]['hotelid']"
   ]
  },
  {
   "cell_type": "code",
   "execution_count": 352,
   "metadata": {},
   "outputs": [],
   "source": [
    "rdate = requests.get('https://www.hotels.com/ho281147/?q-check-out=2018-10-17&tab=description&q-room-0-adults=2&YGF=3&q-check-in=2018-10-16&MGT=1&WOE=3&WOD=2&ZSX=0&SYE=3&q-room-0-children=0&locale=en_IE')"
   ]
  },
  {
   "cell_type": "code",
   "execution_count": 353,
   "metadata": {},
   "outputs": [
    {
     "ename": "AttributeError",
     "evalue": "'NoneType' object has no attribute 'parent'",
     "output_type": "error",
     "traceback": [
      "\u001b[0;31m---------------------------------------------------------------------------\u001b[0m",
      "\u001b[0;31mAttributeError\u001b[0m                            Traceback (most recent call last)",
      "\u001b[0;32m<ipython-input-353-72607feb4b78>\u001b[0m in \u001b[0;36m<module>\u001b[0;34m()\u001b[0m\n\u001b[0;32m----> 1\u001b[0;31m \u001b[0mprint\u001b[0m\u001b[0;34m(\u001b[0m\u001b[0mBeautifulSoup\u001b[0m\u001b[0;34m(\u001b[0m\u001b[0mrdate\u001b[0m\u001b[0;34m.\u001b[0m\u001b[0mcontent\u001b[0m\u001b[0;34m,\u001b[0m\u001b[0;34m'html5lib'\u001b[0m\u001b[0;34m)\u001b[0m\u001b[0;34m.\u001b[0m\u001b[0mfind\u001b[0m\u001b[0;34m(\u001b[0m\u001b[0;34m'div'\u001b[0m\u001b[0;34m,\u001b[0m\u001b[0;34m{\u001b[0m\u001b[0;34m'class'\u001b[0m\u001b[0;34m:\u001b[0m\u001b[0;34m'room-details resp-module'\u001b[0m\u001b[0;34m}\u001b[0m\u001b[0;34m)\u001b[0m\u001b[0;34m.\u001b[0m\u001b[0mparent\u001b[0m\u001b[0;34m.\u001b[0m\u001b[0mparent\u001b[0m\u001b[0;34m.\u001b[0m\u001b[0mparent\u001b[0m\u001b[0;34m.\u001b[0m\u001b[0mprettify\u001b[0m\u001b[0;34m(\u001b[0m\u001b[0;34m)\u001b[0m\u001b[0;34m)\u001b[0m\u001b[0;31m#.find('form').find_all('input')\u001b[0m\u001b[0;34m\u001b[0m\u001b[0m\n\u001b[0m",
      "\u001b[0;31mAttributeError\u001b[0m: 'NoneType' object has no attribute 'parent'"
     ]
    }
   ],
   "source": [
    "print(BeautifulSoup(rdate.content,'html5lib').find('div',{'class':'room-details resp-module'}).parent.parent.parent.prettify())#.find('form').find_all('input')"
   ]
  },
  {
   "cell_type": "code",
   "execution_count": 327,
   "metadata": {
    "scrolled": true
   },
   "outputs": [
    {
     "data": {
      "application/vnd.jupyter.widget-view+json": {
       "model_id": "b69c4384bc10487d814a1f2c19eaa1db",
       "version_major": 2,
       "version_minor": 0
      },
      "text/html": [
       "<p>Failed to display Jupyter Widget of type <code>HBox</code>.</p>\n",
       "<p>\n",
       "  If you're reading this message in the Jupyter Notebook or JupyterLab Notebook, it may mean\n",
       "  that the widgets JavaScript is still loading. If this message persists, it\n",
       "  likely means that the widgets JavaScript library is either not installed or\n",
       "  not enabled. See the <a href=\"https://ipywidgets.readthedocs.io/en/stable/user_install.html\">Jupyter\n",
       "  Widgets Documentation</a> for setup instructions.\n",
       "</p>\n",
       "<p>\n",
       "  If you're reading this message in another frontend (for example, a static\n",
       "  rendering on GitHub or <a href=\"https://nbviewer.jupyter.org/\">NBViewer</a>),\n",
       "  it may mean that your frontend doesn't currently support widgets.\n",
       "</p>\n"
      ],
      "text/plain": [
       "HBox(children=(IntProgress(value=0, max=10), HTML(value='')))"
      ]
     },
     "metadata": {},
     "output_type": "display_data"
    },
    {
     "name": "stdout",
     "output_type": "stream",
     "text": [
      "\n"
     ]
    }
   ],
   "source": [
    "fullcity = getterm('CITY')"
   ]
  },
  {
   "cell_type": "code",
   "execution_count": 329,
   "metadata": {},
   "outputs": [],
   "source": [
    "fullcity['place'] = fullcity['name'].apply(lambda x: '-'.join(x.split('-')[1:]))\n",
    "fullcity['place-1'] = fullcity['place'].apply(lambda x: x.split('-')[0])\n",
    "fullcity['place-2'] = fullcity['place'].apply(lambda x: '-'.join(x.split('-')[:2]))"
   ]
  },
  {
   "cell_type": "code",
   "execution_count": null,
   "metadata": {},
   "outputs": [],
   "source": [
    "c = requests.get('https://www.boldtuesday.com/pages/alphabetical-list-of-all-countries-and-capitals-shown-on-list-of-countries-poster').content\n",
    "capitals = pd.read_html(c,header=0)[0]\n",
    "c2 = requests.get('https://en.wikipedia.org/wiki/List_of_largest_cities').content\n",
    "biguns = pd.read_html(c2,header=0)[1]\n",
    "c3 = requests.get('https://en.wikipedia.org/wiki/List_of_United_States_cities_by_population').content\n",
    "bigus = pd.read_html(c3,header=0)[4]\n",
    "c4 = requests.get('https://en.wikipedia.org/wiki/List_of_cities_in_the_European_Union_by_population_within_city_limits').content\n",
    "bigeu = pd.read_html(c4,header=0)[0]\n",
    "citydf = pd.concat([capitals.rename({'COUNTRY':'Nation','CAPITAL':'City'},axis='columns'),\n",
    "           bigeu.rename({'Country':'Nation'},axis='columns')[['City','Nation']],\n",
    "           pd.DataFrame({'City':bigus.iloc[:,[1,2]].apply(lambda x: ', '.join(x),axis=1),'Nation':'United States'}),\n",
    "           biguns[['City','Nation']]]).dropna().apply(lambda x: x.apply(lambda y: y.title()))\n",
    "citydf['City'] = citydf['City'].apply(lambda x: re.sub('\\[.*?\\]','',x))\n",
    "citydf = citydf.drop_duplicates('City')"
   ]
  },
  {
   "cell_type": "code",
   "execution_count": 332,
   "metadata": {},
   "outputs": [],
   "source": [
    "citydf['place'] = citydf.apply(lambda x: '-'.join(\n",
    "    x[['City','Nation']]).lower().replace(' ','-'\n",
    "                                 ).replace(',',''\n",
    "                                 ).replace('-united-states',''\n",
    "                                 ).replace(\"'\",'-'\n",
    "                                 ).replace('á','a')\n",
    "                               ,axis=1)\n",
    "citydf = citydf.drop_duplicates('place')\n",
    "citydf['place-1'] = citydf.apply(lambda x: x['City'].lower(\n",
    "                                 ).replace(' ','-'\n",
    "                                 ).replace(',',''\n",
    "                                 ).replace(\"'\",''\n",
    "                                 ).replace('á','a')\n",
    "                               ,axis=1)\n",
    "citydf['place-2'] = citydf['place-1']\n",
    "\n",
    "merged_city = recmerge(citydf,fullcity,['place','place-1','place-2'],'id')"
   ]
  },
  {
   "cell_type": "code",
   "execution_count": null,
   "metadata": {},
   "outputs": [],
   "source": []
  },
  {
   "cell_type": "code",
   "execution_count": null,
   "metadata": {},
   "outputs": [],
   "source": [
    "HEADERS = {'Accept-Language':'en-US,en;q=0.5',\n",
    "           'Cookie':'SSLB=1; SSID=CABKoh3gAFAAAAAod3dZgmrACCh3d1kLAAAAAADhxdVatXboWQCSjOoMAAWdiQAAtXboWQEAGQ0ABzaLAABzJK1ZCgANDQAFi4oAALV26FkBACgNAAf3iwAAtXboWQEAGg0AAzmLAABzJK1ZCgDhDAAF54gAALV26FkBAMQMAAVfhwAAtXboWQEA5AsABXB8AAC1duhZAQC1DAAF5YUAALV26FkBAC4NAAVxjAAAtXboWQEALQ0ABW6MAAC1duhZAQAuDAAFFIEAALV26FkBAM0MAAWbhwAAtXboWQEAAw0AB0mKAABzJK1ZCgD9DAAFEYoAALV26FkBAAwNAAGFigAAtXboWQEAPAwAANIMAAAeDAAAwwwAAKsKAABXDAAAigwAABENAAC7DAAAwQwAALgMAAAjDQAAuQwAANcKAAAkDQAAOgwAAO8MAAAiDQAA8wsAAAQKAAA; SSRT=h4DoWQIDAQ; SSPV=fFoAAAAAACABBgAAAAAAAAAAAAQAAAAAAAA; user=QSplbl9JRXxIQ09NX0VNRUE.; mvthistory=eJxNlUuuHDEIRXdUMj9jPIuiSJk8ZQkZZw9ZfHBxcWfUxxjzpzrWI894%2FjBvkpXEm%2Bd46Mh0s3vC2DLGM1%2B1ZLa6ti0yC3mLn%2FsjnVvDHj5MtG2M14JZvnoVfHsM3Mder9Ox14z69dKPoWWabIfaK6MxAkDaAFeRPFdHQzS9wqFUosB7DoIGnwOXCtM5CPTXOejnRgZcKV2AOWV5IuBdBbHpVEiPbxtVwYRVkcph6BpVtuQodELVgxbDy3Kqh354ljC0gMeKNstEVEJy9CWzYVrdjVRhKs%2FMs7JhYa7rbPztpxy%2B1WRRvJI5AEtgdPPJhjEvltaogmVDS9mWAUIbEP4cXPOXbeYp3fNzY4JD8kRizuszmgzz7nIj9TbsUQXlhQHkJYgiUH0OzFq2mBsUYN5VkZF5OMZBxt2ItQCx7j6QSAnP4twlGeU4IQD0eaKCMcz25AHvFcGKooiiTl2PZNwae4WW5RMzZOGCGFd1%2B32zGKajenhqmHySyNvotKIWYesYZU0J454QAOxsLoJ255Xm7ZeSj54jpWg7aI0yOqKsDrCW2JXABU%2Fv5qoMbMI8DLNZoY%2FCbOHqYqX07GsNDZ3D%2FP8A4%2FqqBYKOPCgiUkP22raNZhc12f%2FjVSyH4yNnugGacM9vst%2BCmcSHleBIsQ7zMIpnzre05gph13jia6OTUCpLZu1PRLL1XOucaLWP1YAOu9iN2adeXhgTDWnowAI7qrHKbH75F4DxH8BVw78%2Fv%2F%2F6%2Bv3j68e3fyveV0M%3D; guid=8577897d-e0dd-41b6-bb87-e0c7623e1ac6; s_fid=46E32F2FDCBD2CD8-26FE0E1C4D45ACA6; _ga=GA1.2.725440213.1501001517; s_vi=[CS]v1|2CBBBB9685316B18-4000010B400016D2[CE]; AMCV_C00802BE5330A8350A490D4C%40AdobeOrg=-1330315163%7CMCAID%7C2CBBBB9685316B18-4000010B400016D2%7CMCIDTS%7C17459%7CMCMID%7C58816101718994981334228947833632971511%7CMCAAMLH-1509011767%7C6%7CMCAAMB-1509011767%7CTGF0eZrks1DsVMCPfHyQDFnTcTvl83liCN-3ux4fEx6Rm-E%7CMCOPTOUT-1508414167s%7CNONE; 13211=2CBBBB9685316B18-4000010B400016D2; _cc=AdIP8KWCSu4DZRs5hysg6HJa; homepage_search_data=Vmllbm5hLCBBdXN0cmlh%2F%2F15%2F01%2F2018%2F%2F16%2F01%2F2018%2F%2F2%2F%2Fdd%2FMM%2Fyyyy%2F%2F39254%2F%2F; _vz=viz_59ad248236eca; akacd_pr_5=1510826165~rv=74~id=e4754031f85979d8cb7c31e0bfc6ef8b; _gid=GA1.2.1096243265.1508406967; searchReturningUser=true; propertyReturningUser=true'}\n",
    "\n",
    "APIURL = 'https://www.hotels.com/search/listings.json'\n",
    "\n",
    "def get_dict(destid,chout,chin):\n",
    "    i = 1\n",
    "    out = []\n",
    "    while True:\n",
    "        print i\n",
    "        params = {'destination-id':destid,\n",
    "                  'q-check-out=':chout,\n",
    "                  'q-check-in':chin,\n",
    "                  'q-room-0-adults':2,\n",
    "                  'q-rooms':1,\n",
    "                  'q-room-0-children':0,\n",
    "                  'locale':'en_IE',\n",
    "                  'pn':i}\n",
    "        page = requests.get(APIURL,params=params,headers=HEADERS)\n",
    "        datastring = page.content\n",
    "        #datastring = script.text.strip().replace('&amp;','&').split(';')[0][4:]\n",
    "        datastring = datastring.replace('\\t','')\n",
    "        datastring = datastring.replace('true','True')\n",
    "        datastring = datastring.replace('false','False')\n",
    "        exec('json = ' + datastring)\n",
    "        #DO THE D'S\n",
    "        pno = json['data']['body']['searchResults']['pagination']['currentPage']\n",
    "        if pno < i:\n",
    "            break\n",
    "        i += 1\n",
    "        res = json['data']['body']['searchResults']['results']\n",
    "        dlist = make_list_of_dicts(res)\n",
    "        out += copy.deepcopy(dlist)\n",
    "    return out\n",
    "\n",
    "\n",
    "def make_list_of_dicts(res):\n",
    "    out = []\n",
    "    for d in res:\n",
    "        next_d = {}\n",
    "        for key in d:\n",
    "            if type(d[key]) == dict:\n",
    "                for key2 in d[key]:\n",
    "                    if type(d[key][key2]) == dict:\n",
    "                        for key3 in d[key][key2]:\n",
    "                            next_d[key + '-' + key2 + '-' + key3] = d[key][key2][key3]\n",
    "                    else:\n",
    "                        next_d[key + '-' + key2] = d[key][key2]\n",
    "            elif type(d[key]) == list:\n",
    "                j = 0\n",
    "                for elem in d[key]:\n",
    "                    j += 1\n",
    "                    if type(elem) == dict:\n",
    "                        for key2 in elem:\n",
    "                            #print key + '-' + str(j) + '-' + key2\n",
    "                            #print elem[key2]\n",
    "                            next_d[key + '-' + str(j) + '-' + key2] = elem[key2]\n",
    "                    else:\n",
    "                        next_d[key + '-' + str(j)] = elem\n",
    "            else:\n",
    "                next_d[key] = d[key]\n",
    "        out.append(copy.deepcopy(next_d))\n",
    "    return out\n",
    "    \n",
    "\n",
    "'''\n",
    "l = len(IDS)\n",
    "\n",
    "full = []\n",
    "\n",
    "l = 2\n",
    "\n",
    "for k in range(l):\n",
    "    print k, ' OF ', l\n",
    "    for dates in DATES[:2]\n",
    "        print dates\n",
    "        dlist = get_dict(IDS[k],dates[0],dates[1])\n",
    "        full += copy.deepcopy(dlist)\n",
    "\n",
    "df = pd.DataFrame(full)\n",
    "\n",
    "df.to_csv('out.csv')\n",
    "\n",
    "'''\n",
    "\n"
   ]
  }
 ],
 "metadata": {
  "kernelspec": {
   "display_name": "hierarchical-genmodel",
   "language": "python",
   "name": "hierarchical-genmodel"
  },
  "language_info": {
   "codemirror_mode": {
    "name": "ipython",
    "version": 3
   },
   "file_extension": ".py",
   "mimetype": "text/x-python",
   "name": "python",
   "nbconvert_exporter": "python",
   "pygments_lexer": "ipython3",
   "version": "3.6.4"
  }
 },
 "nbformat": 4,
 "nbformat_minor": 2
}
